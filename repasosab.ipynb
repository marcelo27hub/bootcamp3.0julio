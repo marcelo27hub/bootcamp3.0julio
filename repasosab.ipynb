{
 "cells": [
  {
   "cell_type": "code",
   "execution_count": null,
   "id": "305363a4",
   "metadata": {},
   "outputs": [],
   "source": [
    "#Crear una función calcular_area(base, altura) que retorne el área de un triángulo. \n",
    "\n",
    "#Luego lo multiplicar por dos el resultado del area e imprimir el total\n",
    "\n",
    "def calcular_area(base, altura):\n",
    "    area_triangulo = base*altura/2\n",
    "    \n",
    "    return area_triangulo\n",
    "    \n",
    "    \n",
    "base_usuario = int(input(\"ingrese la base del triangulo: \"))\n",
    "altura_usuario = int(input(\"ingrese la altura del triangulo: \"))\n",
    "   \n",
    "area = calcular_area(base_usuario, altura_usuario)\n",
    "\n",
    "doble_area = area*2\n",
    "print(doble_area)"
   ]
  },
  {
   "cell_type": "code",
   "execution_count": null,
   "id": "49989bd8",
   "metadata": {},
   "outputs": [],
   "source": [
    "'''Crear un programa que solicite un número  al usuario\n",
    "y nos diga si el numero es:\n",
    "    'positivo' \n",
    "    'negativo' \n",
    "    'o Cero. '''\n",
    "    \n",
    "pedir_numero = float(input(\"ingrese un numero: \"))\n",
    "if pedir_numero>0:\n",
    "    print(\"el numero es positivo\")\n",
    "elif pedir_numero<0: \n",
    "    print(\"el numero es negativo\")\n",
    "else:\n",
    "    print(\"el numero es cero\")        "
   ]
  },
  {
   "cell_type": "code",
   "execution_count": null,
   "id": "d107da98",
   "metadata": {},
   "outputs": [],
   "source": [
    "'''Teniendo una lista de números del 1 al 10, crea un programa que muestre solo los numeros pares. \n",
    "\n",
    "Luego sumar todos los números de la lista y mostrar el total.'''\n",
    "\n",
    "lista_de_numeros = []\n",
    "suma= 0\n",
    "\n",
    "for x in range(10):\n",
    "    usuario_numero= int(input(\"ingrese un numero: \"))\n",
    "    lista_de_numeros.append(usuario_numero)\n",
    "print(f\"la lista de numeros es: {lista_de_numeros}\")    \n",
    "       \n",
    "for numeros_pares in lista_de_numeros:\n",
    "    if numeros_pares%2==0:\n",
    "        suma += numeros_pares\n",
    "print(f\"la suma de los numeros pares es: {suma}\")        \n",
    "        \n",
    "        \n",
    "        "
   ]
  },
  {
   "cell_type": "code",
   "execution_count": null,
   "id": "e0a18313",
   "metadata": {},
   "outputs": [],
   "source": [
    "'''Crear una lista con números ingresados \n",
    "por el usuario hasta que escriba 0 (luego salir del bucle), y luego mostrar el promedio.'''\n",
    "\n",
    "lista_de_numeros= []\n",
    "while True:\n",
    "    numero_ingresado= int(input(\"ingrese un numero: \"))\n",
    "    if numero_ingresado == 0:\n",
    "        break\n",
    "    lista_de_numeros.append(numero_ingresado)\n",
    "suma= 0\n",
    "for numeros in lista_de_numeros:\n",
    "    suma+= numeros\n",
    "if len(lista_de_numeros)>0:\n",
    "    promedio= suma/len(lista_de_numeros)\n",
    "else:\n",
    "    promedio= 0    \n",
    "     \n",
    "print(f\"lista de numeros ingresados por el usuario: {lista_de_numeros}\")    \n",
    "print(f\"el promedio es: {promedio}\")         \n",
    "        \n",
    "        "
   ]
  },
  {
   "cell_type": "code",
   "execution_count": null,
   "id": "2c9bc94d",
   "metadata": {},
   "outputs": [],
   "source": [
    "'''El precio de alquilar un polideportivo es 120.000 guaranies. \n",
    "Dependiendo de las siguientes condiciones, se puede obtener un descuento:\n",
    "\n",
    "    Si es mayor de edad y está trabajando -> Paga el 100%\n",
    "    Si es menor de edad y está trabajando -> Paga el 95%\n",
    "    Si es mayor de edad y no está trabajando -> Paga el 75%\n",
    "    Si es menor de edad y no está trabajando -> Paga el 50%\n",
    "\n",
    "Teniendo la edad de la persona y si trabaja o no, imprimir el precio de alquilar el polideportivo.'''\n",
    "\n",
    "precio_polideportivo= 120000\n",
    "edad_usuario= int(input(\"ingrese su edad: \"))\n",
    "trabaja = input(\"trabaja si o no: \")\n",
    "\n",
    "if edad_usuario >= 18 and trabaja ==\"si\":\n",
    "    print(f\"pagara el 100% osea: {precio_polideportivo}\")\n",
    "    \n",
    "elif edad_usuario<18 and trabaja== \"si\":\n",
    "    print(f\"pagara el 95% osea: {95/100*precio_polideportivo}\")\n",
    "\n",
    "elif edad_usuario>= 18 and trabaja == \"no\":\n",
    "    print(f\"pagara el 75% osea: {75/100*precio_polideportivo}\")\n",
    "    \n",
    "elif edad_usuario<18 and trabaja== \"no\":\n",
    "    print(f\"pagara el 50% osea: {precio_polideportivo/2}\")\n",
    "    \n",
    "else:\n",
    "    print(\"morite si tenes mas de 65 anhos\")    \n",
    "    "
   ]
  },
  {
   "cell_type": "code",
   "execution_count": null,
   "id": "6e9fb1bd",
   "metadata": {},
   "outputs": [],
   "source": [
    "'''Crear una funcion que pida como parametro el nombre, correo y contrasenha. \n",
    "\n",
    "retornar true si la contrasenha tiene mas de 4 caracteres y el correo contiene un \"@\" De lo contrario, retornar False\n",
    "\n",
    "Repetir el proceso 3 veces'''\n",
    "\n",
    "def login(nombre, correo, contrasenha):\n",
    "    if len(contrasenha)>4 and \"@\" in correo:\n",
    "        return True\n",
    "    else:\n",
    "        return False   \n",
    "for i in range(3):\n",
    "        \n",
    "    nombre_usuario= input(\"ingrese su nombre: \")  \n",
    "    correo_usuario= input(\"ingrese su correo: \")\n",
    "    contrasenha_usuario= input(\"ingrese su contrasenha: \")    \n",
    "    resulatdo= login(nombre_usuario, correo_usuario, contrasenha_usuario)\n",
    "    if resulatdo:\n",
    "        print(\"acceso valido\")\n",
    "    else:\n",
    "        print(\"acceso invalido\")     \n",
    "    \n"
   ]
  },
  {
   "cell_type": "code",
   "execution_count": 37,
   "id": "5d9b4cb0",
   "metadata": {},
   "outputs": [
    {
     "name": "stdout",
     "output_type": "stream",
     "text": [
      "🎉 ¡Acertaste el número!\n"
     ]
    }
   ],
   "source": [
    "numero_secreto = 19\n",
    "intentos = 5\n",
    "\n",
    "while intentos > 0:\n",
    "    numero_ingresado = int(input(\"Ingrese un número: \"))\n",
    "\n",
    "    if numero_ingresado == numero_secreto:\n",
    "        print(\"🎉 ¡Acertaste el número!\")\n",
    "        break\n",
    "    elif numero_ingresado > numero_secreto:\n",
    "        intentos -= 1\n",
    "        print(f\"❌ El número es menor que el ingresado. Te quedan {intentos} intento(s).\")\n",
    "    else:\n",
    "        intentos -= 1\n",
    "        print(f\"❌ El número es mayor que el ingresado. Te quedan {intentos} intento(s).\")\n",
    "\n",
    "if intentos == 0:\n",
    "    print(f\"💀 Ya no te quedan intentos. El número correcto era: {numero_secreto}\")"
   ]
  },
  {
   "cell_type": "code",
   "execution_count": 36,
   "id": "e0267539",
   "metadata": {},
   "outputs": [
    {
     "name": "stdout",
     "output_type": "stream",
     "text": [
      "['dfsdf', 'dsfgdfgdf', 'gdfgdfg', 'dfgd']\n",
      "1. dfsdf\n",
      "2. dsfgdfgdf\n",
      "3. gdfgdfg\n",
      "4. dfgd\n"
     ]
    }
   ],
   "source": [
    "'''Crear un programa que reciba una lista de supermercado e imprima todos los elementos de la lista enumerados.'''\n",
    "lista_de_supermercado= []\n",
    "cantidad_de_cosas = int(input(\"ingrese la cantidad de cosas que comprara del supermercado: \"))\n",
    "for i in range(cantidad_de_cosas):\n",
    "    compras= input(\"ingrese lo que comprara: \")\n",
    "    lista_de_supermercado.append(compras)\n",
    "print(lista_de_supermercado)\n",
    "numers= 1\n",
    "for cosas in lista_de_supermercado:\n",
    "    print(f\"{numers}. {cosas}\")\n",
    "    numers+=1"
   ]
  },
  {
   "cell_type": "code",
   "execution_count": null,
   "id": "91a0079a",
   "metadata": {},
   "outputs": [],
   "source": []
  }
 ],
 "metadata": {
  "kernelspec": {
   "display_name": "Python 3",
   "language": "python",
   "name": "python3"
  },
  "language_info": {
   "codemirror_mode": {
    "name": "ipython",
    "version": 3
   },
   "file_extension": ".py",
   "mimetype": "text/x-python",
   "name": "python",
   "nbconvert_exporter": "python",
   "pygments_lexer": "ipython3",
   "version": "3.13.3"
  }
 },
 "nbformat": 4,
 "nbformat_minor": 5
}
