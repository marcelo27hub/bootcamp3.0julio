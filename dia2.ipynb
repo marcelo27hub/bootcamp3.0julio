{
 "cells": [
  {
   "cell_type": "markdown",
   "id": "a6fe6544",
   "metadata": {},
   "source": [
    "### repaso\n",
    ". variables\n",
    ". tipos de datos\n",
    "    - str \"textos\"\n",
    "    - int \"enteros\"\n",
    "    - bool \"True False\"\n",
    "    - float \"flotantes\"\n",
    ". operadores\n",
    "    - suma \"+\"\n",
    "    - resta \"-\"\n",
    "    - multiplicacion \"*\"\n",
    "    - division \"/\"\n",
    "    - division entera \"//\"\n",
    "    - modulo \"%\"\n",
    ". funciones\n",
    "    - parametros\n",
    "    - argumentos\n",
    "\n",
    "\n"
   ]
  },
  {
   "cell_type": "code",
   "execution_count": null,
   "id": "e8776b74",
   "metadata": {},
   "outputs": [],
   "source": [
    "def encontrar_mi_auto(marca, chapa, modelo, color):\n",
    "    \n",
    "    print(\"verfificar los datos\\n\")\n",
    "    print(\"retirar el vehiculo\\n\")\n",
    "    print(\"cobrar el servicio\\n\")\n",
    "    print(\"entregar al dueño\\n\")\n",
    "\n",
    "marca_de_auto_usuario = input(\"ingrese la marca de su vehivulo: \")\n",
    "chapa_de_auto_usuario = input(\"ingrese la chapa de su vehivulo: \")   \n",
    "modelo_de_auto_usuario = input(\"ingrese el modelo de su vehivulo: \")   \n",
    "color_de_auto_usuario = input(\"ingrese la color de su vehivulo: \")\n",
    "\n",
    "\n",
    "encontrar_mi_auto(marca_de_auto_usuario, chapa_de_auto_usuario, modelo_de_auto_usuario, color_de_auto_usuario)         \n",
    "    "
   ]
  },
  {
   "cell_type": "code",
   "execution_count": 2,
   "id": "eda66cb0",
   "metadata": {},
   "outputs": [
    {
     "name": "stdout",
     "output_type": "stream",
     "text": [
      "podes tomar pero no comprar\n"
     ]
    }
   ],
   "source": [
    "pregunta_edad= int(input(\"ingrese su edad: \"))\n",
    "if pregunta_edad < 18:\n",
    "    print(\"juguito nomas\")\n",
    "elif pregunta_edad < 21 :    \n",
    "    print(\"podes tomar pero no comprar\")\n",
    "else:\n",
    "    print(\"hace lo que quieras\")    "
   ]
  },
  {
   "cell_type": "code",
   "execution_count": null,
   "id": "f3949d1b",
   "metadata": {},
   "outputs": [
    {
     "name": "stdout",
     "output_type": "stream",
     "text": [
      "la temperatura de su barrio es : 44\n",
      "hakuuuuuuuu\n"
     ]
    }
   ],
   "source": [
    "temperatura_usuario = int(input(\"ingrese la temperatura de su barrio: \"))\n",
    "print(f\"la temperatura de su barrio es : {temperatura_usuario}\")\n",
    "\n",
    "if temperatura_usuario >= -10 and temperatura_usuario<= 18:\n",
    "    print(\"frequete\")\n",
    "elif temperatura_usuario>= 19 and temperatura_usuario<= 30 :\n",
    "    print(\"calor'i\")\n",
    "elif temperatura_usuario >= 31 and temperatura_usuario <= 45 :\n",
    "    print(\"hakuuuuuuuu\")      \n",
    "else:\n",
    "    print(\"Ñamano mba'e\")      "
   ]
  },
  {
   "cell_type": "code",
   "execution_count": 10,
   "id": "7c8d2335",
   "metadata": {},
   "outputs": [
    {
     "name": "stdout",
     "output_type": "stream",
     "text": [
      "que tonto, hace otra vez\n",
      "que tonto, hace otra vez\n",
      "que tonto, hace otra vez\n",
      "que tonto, hace otra vez\n",
      "que tonto, hace otra vez\n",
      "que tonto, hace otra vez\n",
      "que tonto, hace otra vez\n",
      "que tonto, hace otra vez\n",
      "que tonto, hace otra vez\n",
      "que tonto, hace otra vez\n",
      "contreseña correcta crackkkk\n"
     ]
    }
   ],
   "source": [
    "contreseña= \"mandioca3000\"\n",
    "while True:\n",
    "    contraseña_a_pedir= input(\"ingrese la contraseña: \")\n",
    "    if contraseña_a_pedir == contreseña:\n",
    "        print(\"contreseña correcta crackkkk\")\n",
    "        break\n",
    "    else:\n",
    "        print(\"que tonto, hace otra vez\")    "
   ]
  },
  {
   "cell_type": "code",
   "execution_count": 13,
   "id": "109382c5",
   "metadata": {},
   "outputs": [
    {
     "name": "stdout",
     "output_type": "stream",
     "text": [
      "[1, 'cinco', True, 3.142526, 'pizza']\n",
      "[1, 'cinco', True, 3.142526, 'pizza', 2]\n",
      "[1, False, True, 3.142526, 'pizza', 2]\n",
      "[1, False, True, 3.142526, 2]\n"
     ]
    }
   ],
   "source": [
    "lista_de_elementos = [1, \"cinco\", True, 3.142526, \"pizza\"]\n",
    "\n",
    "print(lista_de_elementos)\n",
    "\n",
    "lista_de_elementos.append(2)\n",
    "print(lista_de_elementos)\n",
    "\n",
    "\n",
    "lista_de_elementos[1]= False\n",
    "print(lista_de_elementos)\n",
    "\n",
    "lista_de_elementos.remove(\"pizza\")\n",
    "print(lista_de_elementos)\n",
    "\n",
    "\n"
   ]
  },
  {
   "cell_type": "code",
   "execution_count": 1,
   "id": "5ce38223",
   "metadata": {},
   "outputs": [
    {
     "name": "stdout",
     "output_type": "stream",
     "text": [
      "2\n",
      "4\n",
      "6\n",
      "8\n",
      "10\n",
      "12\n",
      "14\n",
      "16\n",
      "18\n",
      "20\n"
     ]
    }
   ],
   "source": [
    "for i in range(1,11):\n",
    "    print(i*2)\n",
    "    "
   ]
  },
  {
   "cell_type": "code",
   "execution_count": 9,
   "id": "5d033422",
   "metadata": {},
   "outputs": [
    {
     "name": "stdout",
     "output_type": "stream",
     "text": [
      "las Marcas con 6 letras o mas son: \n",
      "xiaomi\n",
      "toyota\n",
      "samsung\n",
      "iphone\n"
     ]
    }
   ],
   "source": [
    "lista_de_marcas = [\"xiaomi\",\"nokia\", \"toyota\", \"samsung\", \"iphone\"]\n",
    "print(f\"las Marcas con 6 letras o mas son: \")\n",
    "for marcas in lista_de_marcas:\n",
    "    if len(marcas)>= 6:\n",
    "        print(marcas)\n",
    "        "
   ]
  },
  {
   "cell_type": "code",
   "execution_count": 23,
   "id": "7e37d634",
   "metadata": {},
   "outputs": [
    {
     "name": "stdout",
     "output_type": "stream",
     "text": [
      "la cantidad de letras o en la frase es de 9\n"
     ]
    }
   ],
   "source": [
    "frase_del_usuario = input(\"ingrese su frase amigo: \")\n",
    "\n",
    "contador_de_letra_o= 0\n",
    "for letra in frase_del_usuario:\n",
    "    if letra == \"o\":\n",
    "        contador_de_letra_o=contador_de_letra_o+1\n",
    "print(f\"la cantidad de letras o en la frase es de {contador_de_letra_o}\")        "
   ]
  }
 ],
 "metadata": {
  "kernelspec": {
   "display_name": "Python 3",
   "language": "python",
   "name": "python3"
  },
  "language_info": {
   "codemirror_mode": {
    "name": "ipython",
    "version": 3
   },
   "file_extension": ".py",
   "mimetype": "text/x-python",
   "name": "python",
   "nbconvert_exporter": "python",
   "pygments_lexer": "ipython3",
   "version": "3.13.3"
  }
 },
 "nbformat": 4,
 "nbformat_minor": 5
}
