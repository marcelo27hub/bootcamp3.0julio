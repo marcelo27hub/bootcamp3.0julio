{
 "cells": [
  {
   "cell_type": "code",
   "execution_count": null,
   "id": "933d0a42",
   "metadata": {},
   "outputs": [
    {
     "name": "stdout",
     "output_type": "stream",
     "text": [
      "su palabra es: HOLA\n"
     ]
    }
   ],
   "source": [
    "def imprimir_palabra():\n",
    "    palabra= \"hola\"\n",
    "    print(palabra)\n",
    "imprimir_palabra()    "
   ]
  },
  {
   "cell_type": "code",
   "execution_count": 8,
   "id": "4fa86b59",
   "metadata": {},
   "outputs": [
    {
     "name": "stdout",
     "output_type": "stream",
     "text": [
      "las letras son iguales\n"
     ]
    }
   ],
   "source": [
    "def comparar_letras(letra1, letra2):\n",
    "    if letra1==letra2:\n",
    "        print(\"las letras son iguales\")\n",
    "    else:\n",
    "        print(\"las letras son diferentes\")    \n",
    "    \n",
    "comparar_letras(\"a\", \"a\")        "
   ]
  },
  {
   "cell_type": "code",
   "execution_count": 1,
   "id": "4061b60b",
   "metadata": {},
   "outputs": [
    {
     "name": "stdout",
     "output_type": "stream",
     "text": [
      "True\n"
     ]
    }
   ],
   "source": [
    "palabra_a_ingresar = input(\"ingrese la palabra: \")\n",
    "numero_a_ingresar = int(input(\"ingrese su numero: \"))\n",
    "def igualdad(palabra, numero):\n",
    "    if len(palabra)== numero:\n",
    "        return True\n",
    "    else:\n",
    "        return False\n",
    "print(igualdad(palabra_a_ingresar, numero_a_ingresar)) \n",
    " "
   ]
  },
  {
   "cell_type": "code",
   "execution_count": 1,
   "id": "f0901ea1",
   "metadata": {},
   "outputs": [
    {
     "name": "stdout",
     "output_type": "stream",
     "text": [
      "[['h', 'o', 'l', 'a']]\n",
      "[['h', 'o', 'l', 'a'], ['q', 'i', 's']]\n",
      "[['h', 'o', 'l', 'a'], ['q', 'i', 's'], ['d', 's', 's', 'f']]\n"
     ]
    }
   ],
   "source": [
    "palabras_ingresadas= []\n",
    "for i in range(3):\n",
    "    palabra = input(\"ingrese su palabra: \")\n",
    "    lista_de_letras = list(palabra)\n",
    "    palabras_ingresadas.append(lista_de_letras)\n",
    "    print(palabras_ingresadas)\n",
    "    \n",
    "\n"
   ]
  },
  {
   "cell_type": "code",
   "execution_count": 7,
   "id": "76ef194a",
   "metadata": {},
   "outputs": [
    {
     "name": "stdout",
     "output_type": "stream",
     "text": [
      "['v', 'd', 'df']\n",
      "['d', 'e', 't']\n",
      "['m', 'i', 'p', 'g']\n"
     ]
    }
   ],
   "source": [
    "lista = [['v', 'd', 'df'],['d', 'e', 't'],['m', 'i', 'p', 'g']]\n",
    "def imprimir_grilla(grilla):\n",
    "    for lista_de_letras in grilla:\n",
    "        print(lista_de_letras)\n",
    "        \n",
    "imprimir_grilla(lista)        \n",
    "        \n",
    "    "
   ]
  }
 ],
 "metadata": {
  "kernelspec": {
   "display_name": "Python 3",
   "language": "python",
   "name": "python3"
  },
  "language_info": {
   "codemirror_mode": {
    "name": "ipython",
    "version": 3
   },
   "file_extension": ".py",
   "mimetype": "text/x-python",
   "name": "python",
   "nbconvert_exporter": "python",
   "pygments_lexer": "ipython3",
   "version": "3.13.3"
  }
 },
 "nbformat": 4,
 "nbformat_minor": 5
}
