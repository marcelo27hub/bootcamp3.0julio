{
 "cells": [
  {
   "cell_type": "code",
   "execution_count": 1,
   "id": "3b82c6c2",
   "metadata": {},
   "outputs": [
    {
     "name": "stdout",
     "output_type": "stream",
     "text": [
      "hola mundo\n"
     ]
    }
   ],
   "source": [
    "print(\"hola mundo\")"
   ]
  },
  {
   "cell_type": "code",
   "execution_count": null,
   "id": "62869b9e",
   "metadata": {},
   "outputs": [],
   "source": [
    "nombre = \"marcelo\""
   ]
  },
  {
   "cell_type": "code",
   "execution_count": null,
   "id": "d175f97a",
   "metadata": {},
   "outputs": [],
   "source": [
    "edad = 4 #int/ integer\n",
    "altura = 1.89 # float/ flotante\n",
    "nombre = \"marcelo\" # str/ string\n",
    "feliz = True #bool/ booleano\n",
    "\n"
   ]
  },
  {
   "cell_type": "code",
   "execution_count": null,
   "id": "0c85a660",
   "metadata": {},
   "outputs": [
    {
     "name": "stdout",
     "output_type": "stream",
     "text": [
      "marcelo 21 Nueva Italia\n"
     ]
    }
   ],
   "source": [
    "#creo las 3 variables que me pide el challenge\n",
    "nombre = \"marcelo\"\n",
    " \n",
    "edad = 21\n",
    "\n",
    "ciudad = \"Nueva Italia\"\n",
    "\n",
    "#imprimo en una sola linea las variables\n",
    "print(nombre, edad, ciudad)"
   ]
  },
  {
   "cell_type": "code",
   "execution_count": null,
   "id": "87b6920a",
   "metadata": {},
   "outputs": [],
   "source": [
    "#  + suma\n",
    "#  - resta\n",
    "#  * multiplicacion\n",
    "#  / Division\n",
    "#  // Division entera (sin decimales)\n",
    "#  % modulo o resto\n"
   ]
  },
  {
   "cell_type": "code",
   "execution_count": 9,
   "id": "de4bff13",
   "metadata": {},
   "outputs": [
    {
     "name": "stdout",
     "output_type": "stream",
     "text": [
      "35\n",
      "8\n"
     ]
    }
   ],
   "source": [
    "#suma\n",
    "# creo mis dos variables diferentes\n",
    "cantidad_de_manzanas = 20\n",
    "cantidad_de_naranjas = 15\n",
    "\n",
    "#sumo las dos cantidades en una nueva variable \n",
    "\n",
    "cantidad_de_frutas = cantidad_de_naranjas + cantidad_de_manzanas\n",
    "\n",
    "print(cantidad_de_frutas)\n",
    "\n",
    "#resta\n",
    "frutas_vendidas = 27\n",
    "frutas_restantes = cantidad_de_frutas - frutas_vendidas\n",
    "\n",
    "print(frutas_restantes)\n",
    "\n",
    "\n"
   ]
  },
  {
   "cell_type": "code",
   "execution_count": 11,
   "id": "e15a63a7",
   "metadata": {},
   "outputs": [
    {
     "name": "stdout",
     "output_type": "stream",
     "text": [
      "Marcelo\n",
      "Valdez\n",
      "Marcelo Valdez\n",
      "mi nombre es Marcelo y mi apellido es Valdez\n"
     ]
    }
   ],
   "source": [
    "nombre = 'Marcelo'\n",
    "apellido = 'Valdez'\n",
    "print(nombre)\n",
    "print(apellido)\n",
    "print(nombre + \" \" + apellido)\n",
    "print(f\"mi nombre es {nombre} y mi apellido es {apellido}\")\n"
   ]
  },
  {
   "cell_type": "code",
   "execution_count": null,
   "id": "6d94fe14",
   "metadata": {},
   "outputs": [
    {
     "name": "stdout",
     "output_type": "stream",
     "text": [
      "\"Hola Me llamo guillermo villalobo Mucho gusto\"\n"
     ]
    }
   ],
   "source": [
    "nombre = \"guillermo\" \n",
    "apellido = \"villalobo\"\n",
    "print(f'\"Hola Me llamo {nombre} {apellido}. Mucho gusto.\"')"
   ]
  },
  {
   "cell_type": "code",
   "execution_count": null,
   "id": "9e6900cd",
   "metadata": {},
   "outputs": [
    {
     "name": "stdout",
     "output_type": "stream",
     "text": [
      "la suma de los dos numeros es 5\n"
     ]
    }
   ],
   "source": [
    "primer_numero = int(input(\"ingrese el primer numero: \"))\n",
    "segundo_numero = int(input(\"ingrese el segundo numero: \"))\n",
    " \n",
    "print(f\"la suma de los dos numeros es {primer_numero + segundo_numero}\") \n"
   ]
  },
  {
   "cell_type": "code",
   "execution_count": null,
   "id": "18b84135",
   "metadata": {},
   "outputs": [
    {
     "name": "stdout",
     "output_type": "stream",
     "text": [
      "Hola me llamo mmad y mi edad es \n",
      "\n",
      "hola\n"
     ]
    }
   ],
   "source": [
    "def saludo():\n",
    "    nombre = input(\"ingrese su nombre: \")\n",
    "    edad = input(\"ingrese su edad: \")\n",
    "    print(f\"Hola me llamo {nombre} y mi edad es {edad}\")\n",
    "saludo()    "
   ]
  },
  {
   "cell_type": "code",
   "execution_count": null,
   "id": "3d5c5948",
   "metadata": {},
   "outputs": [
    {
     "name": "stdout",
     "output_type": "stream",
     "text": [
      "PASO 1: elegir frutas\n"
     ]
    },
    {
     "name": "stdout",
     "output_type": "stream",
     "text": [
      "PASO 2: Lavar las frutas\n",
      "lavando kiwi y banana\n",
      "PASO 3: secar ls frutas\n",
      "secando kiwi y banana\n",
      "paso 4: cortar las frutas\n",
      "cortando kiwi y banana en pedazos \n",
      "PASO 1: elegir frutas\n",
      "PASO 2: Lavar las frutas\n",
      "lavando husjd\\ y sandia\n",
      "PASO 3: secar ls frutas\n",
      "secando husjd\\ y sandia\n",
      "paso 4: cortar las frutas\n",
      "cortando husjd\\ y sandia en pedazos \n",
      "PASO 1: elegir frutas\n",
      "PASO 2: Lavar las frutas\n",
      "lavando manzana y serpiente\n",
      "PASO 3: secar ls frutas\n",
      "secando manzana y serpiente\n",
      "paso 4: cortar las frutas\n",
      "cortando manzana y serpiente en pedazos \n"
     ]
    }
   ],
   "source": [
    "def pasosfrutas():\n",
    "    print(\"PASO 1: elegir frutas\")\n",
    "    fruta_1= input(\"ingrese una fruta= \")\n",
    "    fruta_2= input(\"ingrese otra fruta= \")\n",
    "    \n",
    "    \n",
    "    print(\"PASO 2: Lavar las frutas\")\n",
    "    print(f\"lavando {fruta_1} y {fruta_2}\")\n",
    "    \n",
    "    print(\"PASO 3: secar ls frutas\")\n",
    "    print(f\"secando {fruta_1} y {fruta_2}\")\n",
    "        \n",
    "    print(\"paso 4: cortar las frutas\")\n",
    "    print(f\"cortando {fruta_1} y {fruta_2} en pedazos \")\n",
    "    \n",
    "pasosfrutas()\n",
    "pasosfrutas()\n",
    "pasosfrutas()    "
   ]
  },
  {
   "cell_type": "code",
   "execution_count": 7,
   "id": "c6c4b9e7",
   "metadata": {},
   "outputs": [
    {
     "name": "stdout",
     "output_type": "stream",
     "text": [
      "dijiste salir con los pibes??????\n",
      "dijiste que no estudiaras\n",
      "ya bro a nadie le importa\n",
      "dijiste tomar??????\n",
      "dijiste que si estudiaras\n",
      "ya bro a nadie le importa\n",
      "dijiste loquear??????\n",
      "dijiste que nb estudiaras\n",
      "ya bro a nadie le importa\n"
     ]
    }
   ],
   "source": [
    "def examenestudiar():\n",
    "    paso_1= input(\"que vas a hacer= \")\n",
    "    print(f\"dijiste {paso_1}??????\")\n",
    "    \n",
    "    paso_2= input(\"estudiaste?= \")\n",
    "    print(f\"dijiste que {paso_2} estudiaras\")\n",
    "    print(\"ya bro a nadie le importa\")\n",
    "\n",
    "examenestudiar()   \n",
    "examenestudiar()\n",
    "examenestudiar() "
   ]
  },
  {
   "cell_type": "code",
   "execution_count": 9,
   "id": "ab17614c",
   "metadata": {},
   "outputs": [
    {
     "name": "stdout",
     "output_type": "stream",
     "text": [
      "cortar tomate\n",
      "mezclar la coca cola\n",
      "colocamos en el vaso\n",
      "cortar tomate\n",
      "mezclar la de ajo\n",
      "colocamos en el latona\n"
     ]
    }
   ],
   "source": [
    "def preparar_ensalada(ingrediente,recipiente, salsa):\n",
    "    print(f'cortar {ingrediente}')\n",
    "    print(f'mezclar la {salsa}')\n",
    "    print(F'colocamos en el {recipiente}')\n",
    "preparar_ensalada('tomate', 'vaso','coca cola' )\n",
    "preparar_ensalada('tomate', 'latona', 'de ajo')    \n",
    "    "
   ]
  },
  {
   "cell_type": "code",
   "execution_count": null,
   "id": "d90fa7a0",
   "metadata": {},
   "outputs": [
    {
     "name": "stdout",
     "output_type": "stream",
     "text": [
      "el control es grande, es de color negro, y su marca es sony\n"
     ]
    }
   ],
   "source": [
    "def comprar_control_de_tv(tamanho, color, marca):\n",
    "    print(f'el control es {tamanho}, es de color {color} y su marca es {marca}')\n",
    "comprar_control_de_tv(\"grande\", \"negro\", \"sony\")\n",
    "    "
   ]
  },
  {
   "cell_type": "code",
   "execution_count": null,
   "id": "26224e3f",
   "metadata": {},
   "outputs": [],
   "source": []
  }
 ],
 "metadata": {
  "kernelspec": {
   "display_name": "Python 3",
   "language": "python",
   "name": "python3"
  },
  "language_info": {
   "codemirror_mode": {
    "name": "ipython",
    "version": 3
   },
   "file_extension": ".py",
   "mimetype": "text/x-python",
   "name": "python",
   "nbconvert_exporter": "python",
   "pygments_lexer": "ipython3",
   "version": "3.13.3"
  }
 },
 "nbformat": 4,
 "nbformat_minor": 5
}
